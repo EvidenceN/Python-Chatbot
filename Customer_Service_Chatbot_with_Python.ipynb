{
  "nbformat": 4,
  "nbformat_minor": 0,
  "metadata": {
    "colab": {
      "name": "Customer Service Chatbot with Python",
      "version": "0.3.2",
      "provenance": [],
      "collapsed_sections": [],
      "include_colab_link": true
    },
    "language_info": {
      "codemirror_mode": {
        "name": "ipython",
        "version": 3
      },
      "file_extension": ".py",
      "mimetype": "text/x-python",
      "name": "python",
      "nbconvert_exporter": "python",
      "pygments_lexer": "ipython3",
      "version": "3.7.3"
    },
    "kernelspec": {
      "display_name": "Python 3",
      "language": "python",
      "name": "python3"
    }
  },
  "cells": [
    {
      "cell_type": "markdown",
      "metadata": {
        "id": "view-in-github",
        "colab_type": "text"
      },
      "source": [
        "<a href=\"https://colab.research.google.com/github/EvidenceN/Python-Chatbot/blob/master/Customer_Service_Chatbot_with_Python.ipynb\" target=\"_parent\"><img src=\"https://colab.research.google.com/assets/colab-badge.svg\" alt=\"Open In Colab\"/></a>"
      ]
    },
    {
      "cell_type": "markdown",
      "metadata": {
        "id": "2RbqoHBelope",
        "colab_type": "text"
      },
      "source": [
        "Start by asking the customer their name"
      ]
    },
    {
      "cell_type": "code",
      "metadata": {
        "id": "Qpk3fQ2flopf",
        "colab_type": "code",
        "colab": {}
      },
      "source": [
        "name = input(\"What is your name? \")"
      ],
      "execution_count": 0,
      "outputs": []
    },
    {
      "cell_type": "code",
      "metadata": {
        "id": "XsmCBy7Rlopi",
        "colab_type": "code",
        "colab": {}
      },
      "source": [
        "print(name)"
      ],
      "execution_count": 0,
      "outputs": []
    },
    {
      "cell_type": "markdown",
      "metadata": {
        "id": "J-vab9m330Gr",
        "colab_type": "text"
      },
      "source": [
        "Define the main function which is `cs_service_bot()`. This bot will be broken up into a bunch of smaller functions and each piece of the bot will be built incrementally. "
      ]
    },
    {
      "cell_type": "code",
      "metadata": {
        "id": "aYILuXP1lopj",
        "colab_type": "code",
        "colab": {}
      },
      "source": [
        "def cs_service_bot():\n",
        "    print('''Hello! \\n Welcome to the DNS Cable Company's Service Portal. \\n Are you a new or existing customer?\n",
        "     \\n [1] New Customer\n",
        "     \\n [2] Existing Customer''')\n",
        "    response  = input('Please enter the number corresponding to your choice:')\n",
        "    if response == '1':\n",
        "        new_customer()\n",
        "    elif response == '2':\n",
        "        existing_customer()\n",
        "    else:\n",
        "        print('''Sorry, we didn't understand your selection.''')\n",
        "        cs_service_bot()"
      ],
      "execution_count": 0,
      "outputs": []
    },
    {
      "cell_type": "markdown",
      "metadata": {
        "id": "kzsSpQKBlopl",
        "colab_type": "text"
      },
      "source": [
        "Run `cs_service_bot()` to see how it works."
      ]
    },
    {
      "cell_type": "code",
      "metadata": {
        "id": "PkOrlIFglopl",
        "colab_type": "code",
        "colab": {}
      },
      "source": [
        "cs_service_bot()"
      ],
      "execution_count": 0,
      "outputs": []
    },
    {
      "cell_type": "markdown",
      "metadata": {
        "collapsed": true,
        "id": "WggDpHNHlopo",
        "colab_type": "text"
      },
      "source": [
        "Up next, define `new_customer()` and `existing_customer()`\n",
        "Begin by creating `existing_customer()` function\n",
        "\n"
      ]
    },
    {
      "cell_type": "code",
      "metadata": {
        "id": "gKQiMpI4lopp",
        "colab_type": "code",
        "colab": {}
      },
      "source": [
        "def existing_customer():\n",
        "    print('What kind of support do you need? \\n [1] Television Support \\n [2] Internet Support \\n [3] Speak to a support representative.')\n",
        "    response  = input('Please enter the number corresponding to your choice:')\n",
        "    if response == '1':\n",
        "      television_support()\n",
        "    elif response == '2':\n",
        "      internet_support()\n",
        "    elif response == '3':\n",
        "      live_rep('support')\n",
        "    else:\n",
        "        print('''Sorry, we didn't understand your selection.''')\n",
        "        existing_customer()"
      ],
      "execution_count": 0,
      "outputs": []
    },
    {
      "cell_type": "code",
      "metadata": {
        "id": "fFJe7GEno9af",
        "colab_type": "code",
        "colab": {}
      },
      "source": [
        "existing_customer()"
      ],
      "execution_count": 0,
      "outputs": []
    },
    {
      "cell_type": "markdown",
      "metadata": {
        "id": "m_-SV9jDlopq",
        "colab_type": "text"
      },
      "source": [
        "Different functions within `existing_customer()` will further be defined. In the mean time, let's define `new_customer()`"
      ]
    },
    {
      "cell_type": "code",
      "metadata": {
        "id": "rU7vFX-clopr",
        "colab_type": "code",
        "colab": {}
      },
      "source": [
        "def new_customer():\n",
        "    print('''We're excited to have you join the DNS family, how can we help you?\" \\n [1] Sign up for service. \\n [2] Schedule a home visit. \\n [3] Speak to a sales representative.''')\n",
        "    response  = input('Please enter the number corresponding to your choice:')\n",
        "    if response == '1':\n",
        "      sign_up()\n",
        "    elif response == '2':\n",
        "      home_visit()\n",
        "    elif response == '3':\n",
        "      live_rep('sales')\n",
        "    else:\n",
        "      print('''Sorry, we didn't understand your selection.''')\n",
        "      new_customer()"
      ],
      "execution_count": 0,
      "outputs": []
    },
    {
      "cell_type": "code",
      "metadata": {
        "id": "EPoaCxzwqrFT",
        "colab_type": "code",
        "colab": {}
      },
      "source": [
        "new_customer()"
      ],
      "execution_count": 0,
      "outputs": []
    },
    {
      "cell_type": "markdown",
      "metadata": {
        "id": "ZFcsWbZXlops",
        "colab_type": "text"
      },
      "source": [
        "Let's go back and define the functions within `existing_customer()` beginning with `television_support()`."
      ]
    },
    {
      "cell_type": "code",
      "metadata": {
        "id": "Ce2lGt3-lopt",
        "colab_type": "code",
        "colab": {}
      },
      "source": [
        "def television_support():\n",
        "  print('''What is the natue of your problem? \\n [1] I can't access certain channels. \\n [2] My picture is blurry. \\n [3] I keep losing service. \\n [4] Other issues.''')\n",
        "  response = input('Please enter the number corresponding to your choice:')\n",
        "  if response == '1':\n",
        "    print('Please check the channel lists at DefinitelyNotSinister.com. If the channel you cannot access is there, please contact a live representative.')\n",
        "    did_that_help()\n",
        "  elif response == '2':\n",
        "    print('Try adjusting the antenna above your television set.')\n",
        "    did_that_help()\n",
        "  elif response == '3':\n",
        "    print('Is it raining outside? If so, wait until it is not raining and then try again.')\n",
        "  elif response == '4':\n",
        "    live_rep(\"support\")\n",
        "  else:\n",
        "    print('''Sorry, we didn't understand your selection.''')\n",
        "    television_support()"
      ],
      "execution_count": 0,
      "outputs": []
    },
    {
      "cell_type": "code",
      "metadata": {
        "id": "nMlRkttttQN-",
        "colab_type": "code",
        "colab": {}
      },
      "source": [
        "television_support()"
      ],
      "execution_count": 0,
      "outputs": []
    },
    {
      "cell_type": "markdown",
      "metadata": {
        "id": "ibmn0bZ6lopv",
        "colab_type": "text"
      },
      "source": [
        "Next, we will define `internet_support()`."
      ]
    },
    {
      "cell_type": "code",
      "metadata": {
        "id": "qwr9zP96lopv",
        "colab_type": "code",
        "colab": {}
      },
      "source": [
        "def internet_support():\n",
        "  print('''What is the natue of your problem? \\n [1] I can't connect to the internet. \\n [2] My connection is very slow. \\n [3] I can't access certain sites. \\n [4] Other issues.''')\n",
        "  response = input('Please enter the number corresponding to your choice:')\n",
        "  if response == '1':\n",
        "    print('Unplug your router, then plug it back in, then give it a good whack, like the Fonz.')\n",
        "    did_that_help()\n",
        "  elif response == '2':\n",
        "    print('Make sure that all cell phones and other peoples computers are not connected to the internet, so that you can have all the bandwidth.')\n",
        "    did_that_help()\n",
        "  elif response == '3':\n",
        "    print('Move to a different region or install a VPN. Some areas block certain sites.')\n",
        "  elif response == '4':\n",
        "    live_rep(\"support\")\n",
        "  else:\n",
        "    print('''Sorry, we didn't understand your selection.''')\n",
        "    internet_support()"
      ],
      "execution_count": 0,
      "outputs": []
    },
    {
      "cell_type": "markdown",
      "metadata": {
        "id": "vHYOqs4Nlopx",
        "colab_type": "text"
      },
      "source": [
        "Now let's define `did_that_help()`. "
      ]
    },
    {
      "cell_type": "code",
      "metadata": {
        "id": "ZpPtI3Yelopy",
        "colab_type": "code",
        "colab": {}
      },
      "source": [
        "def did_that_help():\n",
        "    print('Did this solution solve your problem? \\n [1] Yes \\n [2] No')\n",
        "    response = input('Please enter the number corresponding to your choice:')\n",
        "    if response == '1':\n",
        "      print('Thank you for contacting us, have a nice day')\n",
        "    elif response == '2':\n",
        "      print('Would you rather \\n [1] Talk to a live representative \\n [2] Schedule a home visit')\n",
        "      response_2 = input('Please enter the number corresponding to your choice:')\n",
        "      if response_2 == '1':\n",
        "        live_rep('support')\n",
        "      elif response_2 == '2':\n",
        "        home_visit('support')\n",
        "      else:\n",
        "        print('''Sorry, we didn't understand your selection.''')\n",
        "        did_that_help\n",
        "    else:\n",
        "      print('''Sorry, we didn't understand your selection.''')\n",
        "      did_that_help()"
      ],
      "execution_count": 0,
      "outputs": []
    },
    {
      "cell_type": "code",
      "metadata": {
        "id": "1K1r2ShnT9ti",
        "colab_type": "code",
        "colab": {}
      },
      "source": [
        "did_that_help()"
      ],
      "execution_count": 0,
      "outputs": []
    },
    {
      "cell_type": "markdown",
      "metadata": {
        "id": "gtYwnzNzlop0",
        "colab_type": "text"
      },
      "source": [
        "Now we've defined the options within `existing_customer()`, now let's move on to the functions inside `new_customer()`, beginning with `sign_up()`."
      ]
    },
    {
      "cell_type": "code",
      "metadata": {
        "id": "T4qb3lfQlop1",
        "colab_type": "code",
        "colab": {}
      },
      "source": [
        "def sign_up():\n",
        "    print('''Great choice, friend! We're excited to have you join the DNS family! Please select the package you are interested in signing up for.\n",
        "           \\n [1] Bundle Deal (Internet + Cable)\n",
        "           \\n [2] Internet\n",
        "           \\n [3] Cable''')\n",
        "    response = input('Please enter the number corresponding to your choice:')\n",
        "    if response == '1':\n",
        "      print('''You've selected the Bundle Package! Please schedule a home visit and our technician will come and set up your new service.''')\n",
        "      home_visit('new install')\n",
        "    elif response == '2':\n",
        "      print('''You've selected the Internet Only Package! Please schedule a home visit and our technician will come and set up your new service.''')\n",
        "      home_visit('new install')\n",
        "    elif response == '3':\n",
        "      print('''You've selected the Cable Only Package! Please schedule a home visit and our technician will come and set up your new service.''')\n",
        "      home_visit('new install')\n",
        "    else:\n",
        "      print('''Sorry, we didn't understand your selection.''')\n",
        "      sign_up()"
      ],
      "execution_count": 0,
      "outputs": []
    },
    {
      "cell_type": "code",
      "metadata": {
        "id": "dS8qDi2fYOZG",
        "colab_type": "code",
        "colab": {}
      },
      "source": [
        "sign_up()"
      ],
      "execution_count": 0,
      "outputs": []
    },
    {
      "cell_type": "markdown",
      "metadata": {
        "collapsed": true,
        "id": "EqHSWpdRlop3",
        "colab_type": "text"
      },
      "source": [
        "Now it is time to define `home_visit()`. \n",
        "`home_visit()` has been called several times with three different functions. `home_visit()` has been called with not argument, with `home_visit(\"support\")`, and `home_visit(\"new install\")`. To proceed, `home_visit()` will be defined with one argument that has a default of 'none'"
      ]
    },
    {
      "cell_type": "code",
      "metadata": {
        "id": "lH97GHTVlop3",
        "colab_type": "code",
        "colab": {}
      },
      "source": [
        "def home_visit(purpose = 'none'):\n",
        "  if purpose == 'none':\n",
        "    print('''What is the purpose of your home visit? \\n [1] New service installation.\n",
        "         \\n [2] Exisitng service repair.\n",
        "         \\n [3] Location scouting for unserviced region.''')\n",
        "    response = input('Please enter the number corresponding to your choice:')\n",
        "    if response == '1':\n",
        "      home_visit('new install')\n",
        "    elif response == '2':\n",
        "      home_visit('support')\n",
        "    elif response == '3':\n",
        "      home_visit('scout')\n",
        "    else:\n",
        "      print('''Sorry, we didn't understand your selection.''')\n",
        "      home_visit(purpose = 'none')\n",
        "  if purpose == 'support':\n",
        "    visit_date = input('Please enter a date below when you are available for a technician to come to your home for service repair.')\n",
        "    print('Wonderful! A technician will come visit you on', visit_date, 'Please be available between the hours of 1:00 am and 11:00 pm.')\n",
        "    return visit_date\n",
        "  if purpose == 'new install':\n",
        "    visit_date = input('Please enter a date below when you are available for a technician to come to your home for new installation.')\n",
        "    print('Wonderful! A technician will come visit you on', visit_date,'Please be available between the hours of 1:00 am and 11:00 pm.')\n",
        "    return visit_date\n",
        "  if purpose == 'scout':\n",
        "    visit_date = input('Please enter a date below when you are available for a technician to come to your home for scouting.')\n",
        "    print('Wonderful! A technician will come visit you on', visit_date, 'Please be available between the hours of 1:00 am and 11:00 pm.')\n",
        "    return visit_date\n",
        "    "
      ],
      "execution_count": 0,
      "outputs": []
    },
    {
      "cell_type": "code",
      "metadata": {
        "id": "lEROW-TmdmRi",
        "colab_type": "code",
        "colab": {}
      },
      "source": [
        "home_visit()"
      ],
      "execution_count": 0,
      "outputs": []
    },
    {
      "cell_type": "markdown",
      "metadata": {
        "collapsed": true,
        "id": "Kr4X56GTlop5",
        "colab_type": "text"
      },
      "source": [
        "The last function to define is `live_rep()`"
      ]
    },
    {
      "cell_type": "code",
      "metadata": {
        "id": "CXDSYUj9lop5",
        "colab_type": "code",
        "colab": {}
      },
      "source": [
        "def live_rep(purpose):\n",
        "    if purpose == 'sales':\n",
        "      print('Please hold while we connect you with a live sales representative. The wait time will be between two minutes and six hours. We thank you for your patience.')\n",
        "    if purpose == 'support':\n",
        "      print('Please hold while we connect you with a live support representative. The wait time will be between two minutes and six hours. We thank you for your patience.')"
      ],
      "execution_count": 0,
      "outputs": []
    },
    {
      "cell_type": "markdown",
      "metadata": {
        "id": "eVwsKXeYlop7",
        "colab_type": "text"
      },
      "source": [
        "Time to test the customer service chatbot"
      ]
    },
    {
      "cell_type": "code",
      "metadata": {
        "id": "5H_YmHb8lop7",
        "colab_type": "code",
        "colab": {}
      },
      "source": [
        "cs_service_bot()"
      ],
      "execution_count": 0,
      "outputs": []
    },
    {
      "cell_type": "markdown",
      "metadata": {
        "id": "ZKkaCUYhlop9",
        "colab_type": "text"
      },
      "source": [
        "#DONE"
      ]
    }
  ]
}